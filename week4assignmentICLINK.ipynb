{
 "cells": [
  {
   "cell_type": "code",
   "execution_count": 36,
   "metadata": {},
   "outputs": [
    {
     "name": "stdout",
     "output_type": "stream",
     "text": [
      "Collecting matplotlib\n",
      "  Using cached matplotlib-3.10.0-cp310-cp310-win_amd64.whl (8.0 MB)\n",
      "Requirement already satisfied: fonttools>=4.22.0 in c:\\users\\mason\\appdata\\local\\packages\\pythonsoftwarefoundation.python.3.10_qbz5n2kfra8p0\\localcache\\local-packages\\python310\\site-packages (from matplotlib) (4.55.8)\n",
      "Requirement already satisfied: pyparsing>=2.3.1 in c:\\users\\mason\\appdata\\local\\packages\\pythonsoftwarefoundation.python.3.10_qbz5n2kfra8p0\\localcache\\local-packages\\python310\\site-packages (from matplotlib) (3.2.1)\n",
      "Requirement already satisfied: python-dateutil>=2.7 in c:\\users\\mason\\appdata\\local\\packages\\pythonsoftwarefoundation.python.3.10_qbz5n2kfra8p0\\localcache\\local-packages\\python310\\site-packages (from matplotlib) (2.9.0.post0)\n",
      "Requirement already satisfied: kiwisolver>=1.3.1 in c:\\users\\mason\\appdata\\local\\packages\\pythonsoftwarefoundation.python.3.10_qbz5n2kfra8p0\\localcache\\local-packages\\python310\\site-packages (from matplotlib) (1.4.8)\n",
      "Requirement already satisfied: packaging>=20.0 in c:\\users\\mason\\appdata\\local\\packages\\pythonsoftwarefoundation.python.3.10_qbz5n2kfra8p0\\localcache\\local-packages\\python310\\site-packages (from matplotlib) (24.2)\n",
      "Requirement already satisfied: numpy>=1.23 in c:\\users\\mason\\appdata\\local\\packages\\pythonsoftwarefoundation.python.3.10_qbz5n2kfra8p0\\localcache\\local-packages\\python310\\site-packages (from matplotlib) (2.2.2)\n",
      "Requirement already satisfied: contourpy>=1.0.1 in c:\\users\\mason\\appdata\\local\\packages\\pythonsoftwarefoundation.python.3.10_qbz5n2kfra8p0\\localcache\\local-packages\\python310\\site-packages (from matplotlib) (1.3.1)\n",
      "Requirement already satisfied: pillow>=8 in c:\\users\\mason\\appdata\\local\\packages\\pythonsoftwarefoundation.python.3.10_qbz5n2kfra8p0\\localcache\\local-packages\\python310\\site-packages (from matplotlib) (10.4.0)\n",
      "Requirement already satisfied: cycler>=0.10 in c:\\users\\mason\\appdata\\local\\packages\\pythonsoftwarefoundation.python.3.10_qbz5n2kfra8p0\\localcache\\local-packages\\python310\\site-packages (from matplotlib) (0.12.1)\n",
      "Requirement already satisfied: six>=1.5 in c:\\users\\mason\\appdata\\local\\packages\\pythonsoftwarefoundation.python.3.10_qbz5n2kfra8p0\\localcache\\local-packages\\python310\\site-packages (from python-dateutil>=2.7->matplotlib) (1.17.0)\n",
      "Installing collected packages: matplotlib\n",
      "Successfully installed matplotlib-3.10.0\n"
     ]
    },
    {
     "name": "stderr",
     "output_type": "stream",
     "text": [
      "\n",
      "[notice] A new release of pip is available: 23.0.1 -> 25.0\n",
      "[notice] To update, run: C:\\Users\\mason\\AppData\\Local\\Microsoft\\WindowsApps\\PythonSoftwareFoundation.Python.3.10_qbz5n2kfra8p0\\python.exe -m pip install --upgrade pip\n"
     ]
    }
   ],
   "source": [
    "!pip install matplotlib"
   ]
  },
  {
   "cell_type": "code",
   "execution_count": 6,
   "metadata": {},
   "outputs": [],
   "source": [
    "#####################################\n",
    "# ICLINK: Link CRSP and IBES        #\n",
    "# Qingyi (Freda) Song Drechsler     #\n",
    "# Date: June 2019                   #\n",
    "# Updated: June 2020                #\n",
    "#####################################\n",
    "\n",
    "# This program replicates the SAS macro ICLINK \n",
    "# to create a linking table between CRSP and IBES\n",
    "# Output is a score reflecting the quality of the link\n",
    "# Score = 0 (best link) to Score = 6 (worst link)\n",
    "# \n",
    "# More explanation on score system:\n",
    "# - 0: BEST match: using (cusip, cusip dates and company names)       \n",
    "#          or (exchange ticker, company names and 6-digit cusip)     \n",
    "# - 1: Cusips and cusip dates match but company names do not match    \n",
    "# - 2: Cusips and company names match but cusip dates do not match    \n",
    "# - 3: Cusips match but cusip dates and company names do not match    \n",
    "# - 4: tickers and 6-digit cusips match but company names do not match   \n",
    "# - 5: tickers and company names match but 6-digit cusips do not match        \n",
    "# - 6: tickers match but company names and 6-digit cusips do not match        "
   ]
  },
  {
   "cell_type": "code",
   "execution_count": 8,
   "metadata": {},
   "outputs": [
    {
     "name": "stdout",
     "output_type": "stream",
     "text": [
      "WRDS recommends setting up a .pgpass file.\n",
      "You can create this file yourself at any time with the create_pgpass_file() function.\n",
      "Loading library list...\n",
      "Done\n"
     ]
    }
   ],
   "source": [
    "from pathlib import Path\n",
    "\n",
    "import wrds\n",
    "import pandas as pd\n",
    "import numpy as np\n",
    "from fuzzywuzzy import fuzz\n",
    "\n",
    "###################\n",
    "# Connect to WRDS #\n",
    "###################\n",
    "conn=wrds.Connection()\n"
   ]
  },
  {
   "cell_type": "code",
   "execution_count": 9,
   "metadata": {},
   "outputs": [],
   "source": [
    "#########################\n",
    "# Step 1: Link by CUSIP #\n",
    "#########################\n",
    "\n",
    "# 1.1 IBES: Get the list of IBES Tickers for US firms in IBES\n",
    "_ibes1 = conn.raw_sql(\"\"\"\n",
    "                      select ticker, cusip, cname, sdates from ibes.id\n",
    "                      where usfirm=1 and cusip != ''\n",
    "                      \"\"\", date_cols=['sdates'])"
   ]
  },
  {
   "cell_type": "code",
   "execution_count": 10,
   "metadata": {},
   "outputs": [
    {
     "data": {
      "text/html": [
       "<div>\n",
       "<style scoped>\n",
       "    .dataframe tbody tr th:only-of-type {\n",
       "        vertical-align: middle;\n",
       "    }\n",
       "\n",
       "    .dataframe tbody tr th {\n",
       "        vertical-align: top;\n",
       "    }\n",
       "\n",
       "    .dataframe thead th {\n",
       "        text-align: right;\n",
       "    }\n",
       "</style>\n",
       "<table border=\"1\" class=\"dataframe\">\n",
       "  <thead>\n",
       "    <tr style=\"text-align: right;\">\n",
       "      <th></th>\n",
       "      <th>ticker</th>\n",
       "      <th>cusip</th>\n",
       "      <th>cname</th>\n",
       "      <th>fdate</th>\n",
       "      <th>ldate</th>\n",
       "    </tr>\n",
       "  </thead>\n",
       "  <tbody>\n",
       "    <tr>\n",
       "      <th>1</th>\n",
       "      <td>0000</td>\n",
       "      <td>87482X10</td>\n",
       "      <td>TALMER BANCORP</td>\n",
       "      <td>2014-02-20</td>\n",
       "      <td>2014-03-20</td>\n",
       "    </tr>\n",
       "    <tr>\n",
       "      <th>6</th>\n",
       "      <td>0001</td>\n",
       "      <td>26878510</td>\n",
       "      <td>EP ENGR CORP</td>\n",
       "      <td>2014-02-20</td>\n",
       "      <td>2019-10-17</td>\n",
       "    </tr>\n",
       "    <tr>\n",
       "      <th>7</th>\n",
       "      <td>0004</td>\n",
       "      <td>02504D10</td>\n",
       "      <td>AMERICAN CAPITAL</td>\n",
       "      <td>2014-02-20</td>\n",
       "      <td>2014-02-20</td>\n",
       "    </tr>\n",
       "    <tr>\n",
       "      <th>8</th>\n",
       "      <td>000R</td>\n",
       "      <td>14163310</td>\n",
       "      <td>CARECOM</td>\n",
       "      <td>2014-02-20</td>\n",
       "      <td>2014-02-20</td>\n",
       "    </tr>\n",
       "    <tr>\n",
       "      <th>9</th>\n",
       "      <td>000V</td>\n",
       "      <td>15117E10</td>\n",
       "      <td>CELLADON</td>\n",
       "      <td>2014-03-20</td>\n",
       "      <td>2014-03-20</td>\n",
       "    </tr>\n",
       "  </tbody>\n",
       "</table>\n",
       "</div>"
      ],
      "text/plain": [
       "  ticker     cusip             cname      fdate      ldate\n",
       "1   0000  87482X10    TALMER BANCORP 2014-02-20 2014-03-20\n",
       "6   0001  26878510      EP ENGR CORP 2014-02-20 2019-10-17\n",
       "7   0004  02504D10  AMERICAN CAPITAL 2014-02-20 2014-02-20\n",
       "8   000R  14163310           CARECOM 2014-02-20 2014-02-20\n",
       "9   000V  15117E10          CELLADON 2014-03-20 2014-03-20"
      ]
     },
     "execution_count": 10,
     "metadata": {},
     "output_type": "execute_result"
    }
   ],
   "source": [
    "# Create first and last 'start dates' for a given cusip\n",
    "# Use agg min and max to find the first and last date per group\n",
    "# then rename to fdate and ldate respectively\n",
    "\n",
    "_ibes1_date = _ibes1.groupby(['ticker','cusip']).sdates.agg(['min', 'max'])\\\n",
    ".reset_index().rename(columns={'min':'fdate', 'max':'ldate'})\n",
    "\n",
    "# merge fdate ldate back to _ibes1 data\n",
    "_ibes2 = pd.merge(_ibes1, _ibes1_date,how='left', on =['ticker','cusip'])\n",
    "_ibes2 = _ibes2.sort_values(by=['ticker','cusip','sdates'])\n",
    "\n",
    "# keep only the most recent company name\n",
    "# determined by having sdates = ldate\n",
    "_ibes2 = _ibes2.loc[_ibes2.sdates == _ibes2.ldate].drop(['sdates'], axis=1)\n",
    "_ibes2.head()"
   ]
  },
  {
   "cell_type": "code",
   "execution_count": 11,
   "metadata": {},
   "outputs": [],
   "source": [
    "# 1.2 CRSP: Get all permno-ncusip combinations\n",
    "_crsp1 = conn.raw_sql(\"\"\"\n",
    "                      select permno, ncusip, comnam, namedt, nameenddt\n",
    "                      from crsp.stocknames\n",
    "                      where ncusip != ''\n",
    "                      \"\"\", date_cols=['namedt', 'nameenddt'])"
   ]
  },
  {
   "cell_type": "code",
   "execution_count": 12,
   "metadata": {},
   "outputs": [],
   "source": [
    "# first namedt\n",
    "_crsp1_fnamedt = _crsp1.groupby(['permno','ncusip']).namedt.min().reset_index()\n",
    "\n",
    "# last nameenddt\n",
    "_crsp1_lnameenddt = _crsp1.groupby(['permno','ncusip']).nameenddt.max().reset_index()\n",
    "\n",
    "# merge both \n",
    "_crsp1_dtrange = pd.merge(_crsp1_fnamedt, _crsp1_lnameenddt, \\\n",
    "                          on = ['permno','ncusip'], how='inner')\n",
    "\n",
    "# replace namedt and nameenddt with the version from the dtrange\n",
    "_crsp1 = _crsp1.drop(['namedt'],axis=1).rename(columns={'nameenddt':'enddt'})\n",
    "_crsp2 = pd.merge(_crsp1, _crsp1_dtrange, on =['permno','ncusip'], how='inner')\n",
    "\n",
    "# keep only most recent company name\n",
    "_crsp2 = _crsp2.loc[_crsp2.enddt ==_crsp2.nameenddt].drop(['enddt'], axis=1)\n"
   ]
  },
  {
   "cell_type": "code",
   "execution_count": 13,
   "metadata": {},
   "outputs": [],
   "source": [
    "# 1.3 Create CUSIP Link Table\n",
    "\n",
    "# Link by full cusip, company names and dates\n",
    "_link1_1 = pd.merge(_ibes2, _crsp2, how='inner', left_on='cusip', right_on='ncusip')\\\n",
    ".sort_values(['ticker','permno','ldate'])\n"
   ]
  },
  {
   "cell_type": "code",
   "execution_count": 18,
   "metadata": {},
   "outputs": [],
   "source": [
    "# Keep link with most recent company name\n",
    "_link1_1_tmp = _link1_1.groupby(['ticker','permno']).ldate.max().reset_index()\n",
    "_link1_2 = pd.merge(_link1_1, _link1_1_tmp, how='inner', on =['ticker', 'permno', 'ldate'])\n"
   ]
  },
  {
   "cell_type": "code",
   "execution_count": 19,
   "metadata": {},
   "outputs": [
    {
     "data": {
      "text/plain": [
       "np.float64(67.0)"
      ]
     },
     "execution_count": 19,
     "metadata": {},
     "output_type": "execute_result"
    }
   ],
   "source": [
    "# Calculate name matching ratio using FuzzyWuzzy\n",
    "\n",
    "# Note: fuzz ratio = 100 -> match perfectly\n",
    "#       fuzz ratio = 0   -> do not match at all\n",
    "\n",
    "# Comment: token_set_ratio is more flexible in matching the strings:\n",
    "# fuzz.token_set_ratio('AMAZON.COM INC',  'AMAZON COM INC')\n",
    "# returns value of 100\n",
    "\n",
    "# fuzz.ratio('AMAZON.COM INC',  'AMAZON COM INC')\n",
    "# returns value of 93\n",
    "\n",
    "_link1_2['name_ratio'] = _link1_2.apply(lambda x: fuzz.token_set_ratio(x.comnam, x.cname), axis=1)\n",
    "\n",
    "# Note on parameters:\n",
    "# The following parameters are chosen to mimic the SAS macro %iclink\n",
    "# In %iclink, name_dist < 30 is assigned score = 0\n",
    "# where name_dist=30 is roughly 90% percentile in total distribution\n",
    "# and higher name_dist means more different names.\n",
    "# In name_ratio, I mimic this by choosing 10% percentile as cutoff to assign\n",
    "# score = 0\n",
    "\n",
    "# 10% percentile of the company name distance\n",
    "name_ratio_p10 = _link1_2.name_ratio.quantile(0.10)\n",
    "name_ratio_p10"
   ]
  },
  {
   "cell_type": "code",
   "execution_count": 20,
   "metadata": {},
   "outputs": [],
   "source": [
    "# Function to assign score for companies matched by:\n",
    "# full cusip and passing name_ratio\n",
    "# or meeting date range requirement\n",
    "\n",
    "def score1(row):\n",
    "    if (row['fdate']<=row['nameenddt']) & (row['ldate']>=row['namedt']) & (row['name_ratio'] >= name_ratio_p10):\n",
    "        score = 0\n",
    "    elif (row['fdate']<=row['nameenddt']) & (row['ldate']>=row['namedt']):\n",
    "        score = 1\n",
    "    elif row['name_ratio'] >= name_ratio_p10:\n",
    "        score = 2\n",
    "    else:\n",
    "        score = 3\n",
    "    return score\n",
    "\n",
    "# assign size portfolio\n",
    "_link1_2['score']=_link1_2.apply(score1, axis=1)\n",
    "_link1_2 = _link1_2[['ticker','permno','cname','comnam','name_ratio','score']]\n",
    "_link1_2 = _link1_2.drop_duplicates()"
   ]
  },
  {
   "cell_type": "code",
   "execution_count": 22,
   "metadata": {},
   "outputs": [
    {
     "data": {
      "text/plain": [
       "score\n",
       "0    18843\n",
       "1     1846\n",
       "2      713\n",
       "3       88\n",
       "Name: score, dtype: int64"
      ]
     },
     "execution_count": 22,
     "metadata": {},
     "output_type": "execute_result"
    }
   ],
   "source": [
    "_link1_2.groupby(['score']).score.count()"
   ]
  },
  {
   "cell_type": "code",
   "execution_count": 23,
   "metadata": {},
   "outputs": [],
   "source": [
    "##########################\n",
    "# Step 2: Link by TICKER #\n",
    "##########################\n",
    "\n",
    "# Find links for the remaining unmatched cases using Exchange Ticker \n",
    "\n",
    "# Identify remaining unmatched cases \n",
    "_nomatch1 = pd.merge(_ibes2[['ticker']], _link1_2[['permno','ticker']], on='ticker', how='left')\n",
    "_nomatch1 = _nomatch1.loc[_nomatch1.permno.isnull()].drop(['permno'], axis=1).drop_duplicates()\n"
   ]
  },
  {
   "cell_type": "code",
   "execution_count": 24,
   "metadata": {},
   "outputs": [
    {
     "data": {
      "text/plain": [
       "(17192, 5)"
      ]
     },
     "execution_count": 24,
     "metadata": {},
     "output_type": "execute_result"
    }
   ],
   "source": [
    "# Add IBES identifying information\n",
    "\n",
    "ibesid = conn.raw_sql(\"\"\" select ticker, cname, oftic, sdates, cusip from ibes.id \"\"\", date_cols=['sdates'])\n",
    "ibesid = ibesid.loc[ibesid.oftic.notna()]\n",
    "\n",
    "_nomatch2 = pd.merge(_nomatch1, ibesid, how='inner', on=['ticker'])\n",
    "_nomatch2.shape"
   ]
  },
  {
   "cell_type": "code",
   "execution_count": 25,
   "metadata": {},
   "outputs": [
    {
     "data": {
      "text/plain": [
       "(8683, 7)"
      ]
     },
     "execution_count": 25,
     "metadata": {},
     "output_type": "execute_result"
    }
   ],
   "source": [
    "# Create first and last 'start dates' for Exchange Tickers\n",
    "# Label date range variables and keep only most recent company name\n",
    "\n",
    "_nomatch3 = _nomatch2.groupby(['ticker', 'oftic']).sdates.agg(['min', 'max'])\\\n",
    ".reset_index().rename(columns={'min':'fdate', 'max':'ldate'})\n",
    "\n",
    "_nomatch3 = pd.merge(_nomatch2, _nomatch3, how='left', on=['ticker','oftic'])\n",
    "\n",
    "_nomatch3 = _nomatch3.loc[_nomatch3.sdates == _nomatch3.ldate]\n",
    "_nomatch3.shape"
   ]
  },
  {
   "cell_type": "code",
   "execution_count": 26,
   "metadata": {},
   "outputs": [],
   "source": [
    "# Get entire list of CRSP stocks with Exchange Ticker information\n",
    "\n",
    "_crsp_n1 = conn.raw_sql(\"\"\" select ticker, comnam, permno, ncusip, namedt, nameenddt\n",
    "                            from crsp.stocknames \"\"\", date_cols=['namedt', 'nameenddt'])\n",
    "\n",
    "_crsp_n1 = _crsp_n1.loc[_crsp_n1.ticker.notna()].sort_values(by=['permno','ticker','namedt'])"
   ]
  },
  {
   "cell_type": "code",
   "execution_count": 27,
   "metadata": {},
   "outputs": [],
   "source": [
    "# Arrange effective dates for link by Exchange Ticker\n",
    "\n",
    "_crsp_n1_namedt = _crsp_n1.groupby(['permno','ticker']).namedt.min().reset_index().rename(columns={'min':'namedt'})\n",
    "_crsp_n1_nameenddt = _crsp_n1.groupby(['permno','ticker']).nameenddt.max().reset_index().rename(columns={'max':'nameenddt'})\n",
    "\n",
    "_crsp_n1_dt = pd.merge(_crsp_n1_namedt, _crsp_n1_nameenddt, how = 'inner', on=['permno','ticker'])\n",
    "\n",
    "_crsp_n1 = _crsp_n1.rename(columns={'namedt': 'namedt_ind', 'nameenddt':'nameenddt_ind'})"
   ]
  },
  {
   "cell_type": "code",
   "execution_count": 28,
   "metadata": {},
   "outputs": [],
   "source": [
    "_crsp_n2 = pd.merge(_crsp_n1, _crsp_n1_dt, how ='left', on = ['permno','ticker'])\n",
    "\n",
    "_crsp_n2 = _crsp_n2.rename(columns={'ticker':'crsp_ticker'})\n",
    "_crsp_n2 = _crsp_n2.loc[_crsp_n2.nameenddt_ind == _crsp_n2.nameenddt].drop(['namedt_ind', 'nameenddt_ind'], axis=1)"
   ]
  },
  {
   "cell_type": "code",
   "execution_count": 29,
   "metadata": {},
   "outputs": [],
   "source": [
    "# Merge remaining unmatched cases using Exchange Ticker \n",
    "# Note: Use ticker date ranges as exchange tickers are reused overtime\n",
    "\n",
    "_link2_1 = pd.merge(_nomatch3, _crsp_n2, how='inner', left_on=['oftic'], right_on=['crsp_ticker'])\n",
    "_link2_1 = _link2_1.loc[(_link2_1.ldate>=_link2_1.namedt) & (_link2_1.fdate<=_link2_1.nameenddt)]\n"
   ]
  },
  {
   "cell_type": "code",
   "execution_count": 30,
   "metadata": {},
   "outputs": [],
   "source": [
    "# Score using company name using 6-digit CUSIP and company name spelling distance\n",
    "_link2_1['name_ratio'] = _link2_1.apply(lambda x: fuzz.token_set_ratio(x.comnam, x.cname), axis=1)\n",
    "\n",
    "_link2_2 = _link2_1\n",
    "_link2_2['cusip6'] = _link2_2.apply(lambda x: x.cusip[:6], axis=1)\n",
    "_link2_2['ncusip6'] = _link2_2.apply(lambda x: x.ncusip[:6], axis=1)\n"
   ]
  },
  {
   "cell_type": "code",
   "execution_count": 31,
   "metadata": {},
   "outputs": [],
   "source": [
    "# Score using company name using 6-digit CUSIP and company name spelling distance\n",
    "\n",
    "def score2(row):\n",
    "    if (row['cusip6']==row['ncusip6']) & (row['name_ratio'] >= name_ratio_p10):\n",
    "        score = 0\n",
    "    elif (row['cusip6']==row['ncusip6']):\n",
    "        score = 4\n",
    "    elif row['name_ratio'] >= name_ratio_p10:\n",
    "        score = 5\n",
    "    else:\n",
    "        score = 6\n",
    "    return score\n",
    "\n",
    "# assign size portfolio\n",
    "_link2_2['score']=_link2_2.apply(score2, axis=1)"
   ]
  },
  {
   "cell_type": "code",
   "execution_count": 32,
   "metadata": {},
   "outputs": [],
   "source": [
    "# Some companies may have more than one TICKER-PERMNO link\n",
    "# so re-sort and keep the case (PERMNO & Company name from CRSP)\n",
    "# that gives the lowest score for each IBES TICKER \n",
    "\n",
    "_link2_2 = _link2_2[['ticker','permno','cname','comnam', 'name_ratio', 'score']].sort_values(by=['ticker','score'])\n",
    "_link2_2_score = _link2_2.groupby(['ticker']).score.min().reset_index()\n",
    "\n",
    "_link2_3 = pd.merge(_link2_2, _link2_2_score, how='inner', on=['ticker', 'score'])\n",
    "_link2_3 = _link2_3[['ticker','permno','cname','comnam','score']].drop_duplicates()"
   ]
  },
  {
   "cell_type": "code",
   "execution_count": 33,
   "metadata": {},
   "outputs": [],
   "source": [
    "#####################################\n",
    "# Step 3: Finalize LInks and Scores #\n",
    "#####################################\n",
    "\n",
    "iclink = pd.concat([_link1_2, _link2_3])"
   ]
  },
  {
   "cell_type": "code",
   "execution_count": 34,
   "metadata": {},
   "outputs": [],
   "source": [
    "# Storing iclink for other program usage\n",
    "\n",
    "iclink.to_csv(Path.home().joinpath('iclink.csv'))"
   ]
  },
  {
   "cell_type": "code",
   "execution_count": 37,
   "metadata": {},
   "outputs": [
    {
     "data": {
      "image/png": "[encoded data removed]",
      "text/plain": [
       "<Figure size 1600x1000 with 1 Axes>"
      ]
     },
     "metadata": {},
     "output_type": "display_data"
    }
   ],
   "source": [
    "# Plotting summary statistics output:\n",
    "\n",
    "import matplotlib.pyplot as plt\n",
    "%matplotlib inline\n",
    "\n",
    "plt.figure(figsize=(16,10))\n",
    "plt.title('Score Distribution \\n', fontsize=30)\n",
    "plt.xticks(fontsize=16)\n",
    "plt.yticks(fontsize=16)\n",
    "iclink.score.hist(bins=6)\n",
    "\n",
    "plt.savefig(Path.home().joinpath('iclink_score.png'))"
   ]
  },
  {
   "cell_type": "code",
   "execution_count": 38,
   "metadata": {},
   "outputs": [
    {
     "data": {
      "image/png": "[encoded data removed]",
      "text/plain": [
       "<Figure size 1600x1000 with 1 Axes>"
      ]
     },
     "metadata": {},
     "output_type": "display_data"
    }
   ],
   "source": [
    "\n",
    "%matplotlib inline\n",
    "\n",
    "plt.figure(figsize=(16,10))\n",
    "plt.title('Name Ratio Distribution \\n', fontsize=30)\n",
    "plt.xticks(fontsize=16)\n",
    "plt.yticks(fontsize=16)\n",
    "iclink.name_ratio.hist()\n",
    "\n",
    "plt.savefig(Path.home().joinpath('iclink_name_ratio.png'))"
   ]
  },
  {
   "cell_type": "code",
   "execution_count": null,
   "metadata": {},
   "outputs": [
    {
     "name": "stderr",
     "output_type": "stream",
     "text": [
      "C:\\Users\\mason\\AppData\\Local\\Temp\\ipykernel_17808\\685786167.py:5: SettingWithCopyWarning: \n",
      "A value is trying to be set on a copy of a slice from a DataFrame.\n",
      "Try using .loc[row_indexer,col_indexer] = value instead\n",
      "\n",
      "See the caveats in the documentation: https://pandas.pydata.org/pandas-docs/stable/user_guide/indexing.html#returning-a-view-versus-a-copy\n",
      "  sample_out[['permno', 'name_ratio']] = sample_out[['permno', 'name_ratio']].astype(int)\n"
     ]
    },
    {
     "data": {
      "text/html": [
       "<div>\n",
       "<style scoped>\n",
       "    .dataframe tbody tr th:only-of-type {\n",
       "        vertical-align: middle;\n",
       "    }\n",
       "\n",
       "    .dataframe tbody tr th {\n",
       "        vertical-align: top;\n",
       "    }\n",
       "\n",
       "    .dataframe thead th {\n",
       "        text-align: right;\n",
       "    }\n",
       "</style>\n",
       "<table border=\"1\" class=\"dataframe\">\n",
       "  <thead>\n",
       "    <tr style=\"text-align: right;\">\n",
       "      <th></th>\n",
       "      <th>ticker</th>\n",
       "      <th>permno</th>\n",
       "      <th>cname</th>\n",
       "      <th>comnam</th>\n",
       "      <th>name_ratio</th>\n",
       "      <th>score</th>\n",
       "    </tr>\n",
       "  </thead>\n",
       "  <tbody>\n",
       "    <tr>\n",
       "      <th>2801</th>\n",
       "      <td>BAC</td>\n",
       "      <td>58827</td>\n",
       "      <td>BANKAMERICA CA</td>\n",
       "      <td>BANKAMERICA CORP</td>\n",
       "      <td>88</td>\n",
       "      <td>0</td>\n",
       "    </tr>\n",
       "    <tr>\n",
       "      <th>6018</th>\n",
       "      <td>DELL</td>\n",
       "      <td>11081</td>\n",
       "      <td>DELL INC</td>\n",
       "      <td>DELL INC</td>\n",
       "      <td>100</td>\n",
       "      <td>0</td>\n",
       "    </tr>\n",
       "    <tr>\n",
       "      <th>7691</th>\n",
       "      <td>FFS</td>\n",
       "      <td>75161</td>\n",
       "      <td>1ST FED BCP DEL</td>\n",
       "      <td>FIRST FEDERAL BANCORP DE</td>\n",
       "      <td>51</td>\n",
       "      <td>3</td>\n",
       "    </tr>\n",
       "    <tr>\n",
       "      <th>10065</th>\n",
       "      <td>IBM</td>\n",
       "      <td>12490</td>\n",
       "      <td>IBM</td>\n",
       "      <td>INTERNATIONAL BUSINESS MACHS COR</td>\n",
       "      <td>11</td>\n",
       "      <td>1</td>\n",
       "    </tr>\n",
       "    <tr>\n",
       "      <th>13137</th>\n",
       "      <td>MSFT</td>\n",
       "      <td>10107</td>\n",
       "      <td>MICROSOFT</td>\n",
       "      <td>MICROSOFT CORP</td>\n",
       "      <td>100</td>\n",
       "      <td>0</td>\n",
       "    </tr>\n",
       "  </tbody>\n",
       "</table>\n",
       "</div>"
      ],
      "text/plain": [
       "      ticker  permno            cname                            comnam  \\\n",
       "2801     BAC   58827   BANKAMERICA CA                  BANKAMERICA CORP   \n",
       "6018    DELL   11081         DELL INC                          DELL INC   \n",
       "7691     FFS   75161  1ST FED BCP DEL          FIRST FEDERAL BANCORP DE   \n",
       "10065    IBM   12490              IBM  INTERNATIONAL BUSINESS MACHS COR   \n",
       "13137   MSFT   10107        MICROSOFT                    MICROSOFT CORP   \n",
       "\n",
       "       name_ratio  score  \n",
       "2801           88      0  \n",
       "6018          100      0  \n",
       "7691           51      3  \n",
       "10065          11      1  \n",
       "13137         100      0  "
      ]
     },
     "execution_count": 39,
     "metadata": {},
     "output_type": "execute_result"
    },
    {
     "ename": "",
     "evalue": "",
     "output_type": "error",
     "traceback": [
      "\u001b[1;31mThe Kernel crashed while executing code in the current cell or a previous cell. \n",
      "\u001b[1;31mPlease review the code in the cell(s) to identify a possible cause of the failure. \n",
      "\u001b[1;31mClick <a href='https://aka.ms/vscodeJupyterKernelCrash'>here</a> for more info. \n",
      "\u001b[1;31mView Jupyter <a href='command:jupyter.viewOutput'>log</a> for further details."
     ]
    }
   ],
   "source": [
    "sample_out = iclink.loc[(iclink.permno==58827) | (iclink.permno==11081) | \\\n",
    "           (iclink.permno==75161) | (iclink.permno==12490) | \\\n",
    "           (iclink.permno==10107)]\n",
    "\n",
    "sample_out[['permno', 'name_ratio']] = sample_out[['permno', 'name_ratio']].astype(int)\n",
    "sample_out = sample_out[['ticker', 'permno','cname','comnam', 'name_ratio', 'score']]\n",
    "\n",
    "sample_out"
   ]
  },
  {
   "cell_type": "code",
   "execution_count": null,
   "metadata": {},
   "outputs": [],
   "source": []
  }
 ],
 "metadata": {
  "kernelspec": {
   "display_name": "Python 3",
   "language": "python",
   "name": "python3"
  },
  "language_info": {
   "codemirror_mode": {
    "name": "ipython",
    "version": 3
   },
   "file_extension": ".py",
   "mimetype": "text/x-python",
   "name": "python",
   "nbconvert_exporter": "python",
   "pygments_lexer": "ipython3",
   "version": "3.10.11"
  }
 },
 "nbformat": 4,
 "nbformat_minor": 2
}
